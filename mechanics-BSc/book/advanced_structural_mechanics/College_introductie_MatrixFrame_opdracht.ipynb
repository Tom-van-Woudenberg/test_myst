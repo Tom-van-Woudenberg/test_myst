{
 "cells": [
  {
   "cell_type": "markdown",
   "id": "11aa3d17",
   "metadata": {},
   "source": [
    "# Symbolic programming to solve structural problems."
   ]
  },
  {
   "cell_type": "markdown",
   "id": "08f0e96a",
   "metadata": {},
   "source": [
    "On this page the use of symbolic programming in the form of the `sympy`-package in `python` is explained.\n",
    "\n",
    "In this package, you can define symbols with `sympy.symbols`. Basic algebraic calculations can now be programmed using standard symbols like `+`, `-`, `*` and `**`, while more advanced operations are available inside the `sympy`-package like `sympy.integrate` for integrating, `sympy.solve` for solving equations and `sympy.subs` for substitution."
   ]
  },
  {
   "cell_type": "markdown",
   "id": "00ba9fff",
   "metadata": {},
   "source": [
    "## Example 1"
   ]
  },
  {
   "cell_type": "markdown",
   "id": "92d7e5ef",
   "metadata": {},
   "source": [
    "![figuur 1](Data_College_introductie_MatrixFrame_opdracht/Opdracht_1.gif)\n",
    "\n",
    "Allereest moeten de bibliotheken worden geïmporteerd. SymPy is de symbolische rekenbibliotheek voor Python"
   ]
  },
  {
   "cell_type": "code",
   "execution_count": 1,
   "id": "8ce1e505",
   "metadata": {
    "scrolled": false
   },
   "outputs": [],
   "source": [
    "import numpy as np\n",
    "import matplotlib.pyplot as plt\n",
    "import sympy as sp"
   ]
  },
  {
   "cell_type": "markdown",
   "id": "af308bb3",
   "metadata": {},
   "source": [
    "Alle wiskundige symbolen die later rechts van het `=` teken worden geïntroduceerd moeten eerst gedefinieerd worden zodat Python weet dat het om SymPy variabelen gaat. Daarbij moet voor de zakking moet worden aangegeven dat het een functie is.\n",
    "Daarnaast moeten ook alle mogelijk integratieconstantes moeten worden gedefinieerd."
   ]
  },
  {
   "cell_type": "code",
   "execution_count": 2,
   "id": "c4cb5789",
   "metadata": {
    "scrolled": false
   },
   "outputs": [],
   "source": [
    "q, x = sp.symbols('q x')\n",
    "L, EI = sp.symbols('L EI')\n",
    "C1, C2, C3, C4 = sp.symbols('C1 C2 C3 C4')"
   ]
  },
  {
   "cell_type": "markdown",
   "id": "ef393a0c",
   "metadata": {},
   "source": [
    "De verplaatsingsfunctie kan dan geworden worden door viermaal te integreren met `integrate`, let op dat de je dan ook handmatig de integratieconstrantes definieert.\n",
    "Met `display` wordt een variabele op een nette wiskundige manier weergegeven"
   ]
  },
  {
   "cell_type": "code",
   "execution_count": 3,
   "id": "d088bb55",
   "metadata": {},
   "outputs": [
    {
     "data": {
      "text/latex": [
       "$\\displaystyle - \\frac{C_{1} x^{3}}{6 EI} - \\frac{C_{2} x^{2}}{2 EI} - C_{3} x + C_{4} + \\frac{q x^{4}}{24 EI}$"
      ],
      "text/plain": [
       "-C1*x**3/(6*EI) - C2*x**2/(2*EI) - C3*x + C4 + q*x**4/(24*EI)"
      ]
     },
     "metadata": {},
     "output_type": "display_data"
    }
   ],
   "source": [
    "V = sp.integrate(-q,x)+C1\n",
    "M = sp.integrate(V,x)+C2\n",
    "kappa = M / EI\n",
    "phi = sp.integrate(kappa,x)+C3\n",
    "w = sp.integrate(-phi,x)+C4\n",
    "display(w)"
   ]
  },
  {
   "cell_type": "markdown",
   "id": "3d10a7cd",
   "metadata": {},
   "source": [
    "Nu kunnen de randvoorwaarden worden ingevuld. Met `.subs` vervang je een variabele in een vergelijking door een andere variabele of een getal. Met `sp.Eq` definieer je een vergelijking met een linker en rechterzijde."
   ]
  },
  {
   "cell_type": "code",
   "execution_count": 4,
   "id": "d071b47f",
   "metadata": {},
   "outputs": [
    {
     "data": {
      "text/latex": [
       "$\\displaystyle C_{4} = 0$"
      ],
      "text/plain": [
       "Eq(C4, 0)"
      ]
     },
     "metadata": {},
     "output_type": "display_data"
    },
    {
     "data": {
      "text/latex": [
       "$\\displaystyle - \\frac{C_{1} L^{3}}{6 EI} - \\frac{C_{2} L^{2}}{2 EI} - C_{3} L + C_{4} + \\frac{L^{4} q}{24 EI} = 0$"
      ],
      "text/plain": [
       "Eq(-C1*L**3/(6*EI) - C2*L**2/(2*EI) - C3*L + C4 + L**4*q/(24*EI), 0)"
      ]
     },
     "metadata": {},
     "output_type": "display_data"
    },
    {
     "data": {
      "text/latex": [
       "$\\displaystyle C_{2} = 0$"
      ],
      "text/plain": [
       "Eq(C2, 0)"
      ]
     },
     "metadata": {},
     "output_type": "display_data"
    },
    {
     "data": {
      "text/latex": [
       "$\\displaystyle C_{1} L + C_{2} - \\frac{L^{2} q}{2} = 0$"
      ],
      "text/plain": [
       "Eq(C1*L + C2 - L**2*q/2, 0)"
      ]
     },
     "metadata": {},
     "output_type": "display_data"
    }
   ],
   "source": [
    "Eq1 = sp.Eq(w.subs(x, 0), 0) \n",
    "Eq2 = sp.Eq(w.subs(x, L), 0)\n",
    "Eq3 = sp.Eq(M.subs(x, 0), 0)\n",
    "Eq4 = sp.Eq(M.subs(x, L), 0)\n",
    "display(Eq1,Eq2,Eq3,Eq4)"
   ]
  },
  {
   "cell_type": "markdown",
   "id": "50e8e763",
   "metadata": {},
   "source": [
    "De integratieconstantes kunnen nu worden opgelost. Met `sp.solve` wordt de set vergelijkingen van de randvoorwaarden opgelost voor de onbekende integratieconstantes."
   ]
  },
  {
   "cell_type": "code",
   "execution_count": 5,
   "id": "69f6a2b6",
   "metadata": {},
   "outputs": [
    {
     "data": {
      "text/plain": [
       "{C1: L*q/2, C2: 0, C3: -L**3*q/(24*EI), C4: 0}"
      ]
     },
     "metadata": {},
     "output_type": "display_data"
    }
   ],
   "source": [
    "sol = sp.solve((Eq1,Eq2,Eq3,Eq4),(C1,C2,C3,C4))\n",
    "display(sol)"
   ]
  },
  {
   "cell_type": "markdown",
   "id": "b891a36d",
   "metadata": {},
   "source": [
    "De gevonden integratieconstructies kunnen nu worden ingevoerd in de originele functie voor $w$"
   ]
  },
  {
   "cell_type": "code",
   "execution_count": 6,
   "id": "9470e4b9",
   "metadata": {},
   "outputs": [
    {
     "data": {
      "text/latex": [
       "$\\displaystyle \\frac{L^{3} q x}{24 EI} - \\frac{L q x^{3}}{12 EI} + \\frac{q x^{4}}{24 EI}$"
      ],
      "text/plain": [
       "L**3*q*x/(24*EI) - L*q*x**3/(12*EI) + q*x**4/(24*EI)"
      ]
     },
     "metadata": {},
     "output_type": "display_data"
    }
   ],
   "source": [
    "w_sol = w.subs(sol)\n",
    "display(w_sol)"
   ]
  },
  {
   "cell_type": "markdown",
   "id": "65a97151",
   "metadata": {},
   "source": [
    "Voor de numerieke waarde kunnen de symbolen worden vervangen door getalwaardes."
   ]
  },
  {
   "cell_type": "code",
   "execution_count": 7,
   "id": "77d9d345",
   "metadata": {},
   "outputs": [
    {
     "data": {
      "text/latex": [
       "$\\displaystyle \\frac{x^{4}}{4800} - \\frac{x^{3}}{240} + \\frac{5 x}{24}$"
      ],
      "text/plain": [
       "x**4/4800 - x**3/240 + 5*x/24"
      ]
     },
     "metadata": {},
     "output_type": "display_data"
    }
   ],
   "source": [
    "w_subs = w_sol.subs([(EI,1000),(q,5),(L,10)])\n",
    "display(w_subs)"
   ]
  },
  {
   "cell_type": "markdown",
   "id": "5a7964bf",
   "metadata": {},
   "source": [
    "Om de gevonden functie te plotten is het handig de SymPy vergelijking om te schrijven naar NumPy functie, `sp.lambdify` doet dat voor je. Vervolgens kan je met bekende functies van NumPy en Matplotlib een grafiek plotten."
   ]
  },
  {
   "cell_type": "code",
   "execution_count": 8,
   "id": "2d19a169",
   "metadata": {},
   "outputs": [
    {
     "data": {
      "image/png": "[encoded data removed]",
      "text/plain": [
       "<Figure size 640x480 with 1 Axes>"
      ]
     },
     "metadata": {},
     "output_type": "display_data"
    }
   ],
   "source": [
    "w_numpy = sp.lambdify(x,w_subs) \n",
    "x_plot = np.linspace(0,10,50)\n",
    "w_plot = w_numpy(x_plot)\n",
    "plt.plot(x_plot,w_plot)\n",
    "plt.gca().invert_yaxis() # draait de y-as om\n",
    "plt.title(\"w-lijn\")\n",
    "plt.axhline(0,color='black') #geeft een horizontale lijn op w=0 weer\n",
    "plt.xlim(0,10)\n",
    "plt.annotate('%.2f m' % w_numpy(5), xy = [5,w_numpy(5)]) #geeft de getalswaarde weer in de grafiek\n",
    "plt.axis('off');"
   ]
  },
  {
   "cell_type": "markdown",
   "id": "23076dad",
   "metadata": {},
   "source": [
    "De $\\phi$, $M$ en $V$-lijn kunnen op gelijke wijze worden gevonden als de $w-$lijn."
   ]
  },
  {
   "cell_type": "code",
   "execution_count": 9,
   "id": "196a661f",
   "metadata": {},
   "outputs": [
    {
     "data": {
      "text/latex": [
       "$\\displaystyle - \\frac{L^{3} q}{24 EI} + \\frac{L q x^{2}}{4 EI} - \\frac{q x^{3}}{6 EI}$"
      ],
      "text/plain": [
       "-L**3*q/(24*EI) + L*q*x**2/(4*EI) - q*x**3/(6*EI)"
      ]
     },
     "metadata": {},
     "output_type": "display_data"
    },
    {
     "data": {
      "text/latex": [
       "$\\displaystyle - \\frac{x^{3}}{1200} + \\frac{x^{2}}{80} - \\frac{5}{24}$"
      ],
      "text/plain": [
       "-x**3/1200 + x**2/80 - 5/24"
      ]
     },
     "metadata": {},
     "output_type": "display_data"
    },
    {
     "data": {
      "image/png": "[encoded data removed]",
      "text/plain": [
       "<Figure size 640x480 with 1 Axes>"
      ]
     },
     "metadata": {},
     "output_type": "display_data"
    }
   ],
   "source": [
    "phi_sol = phi.subs(sol)\n",
    "display(phi_sol)\n",
    "\n",
    "phi_subs = phi_sol.subs([(EI,1000),(q,5),(L,10)])\n",
    "display(phi_subs)\n",
    "\n",
    "phi_numpy = sp.lambdify(x,phi_subs)\n",
    "phi_plot = phi_numpy(x_plot)\n",
    "plt.figure()\n",
    "plt.plot(x_plot,phi_plot)\n",
    "plt.gca().invert_yaxis()\n",
    "plt.title(\"phi-lijn\")\n",
    "plt.axhline(0,color='black')\n",
    "plt.xlim(0,10)\n",
    "plt.annotate('%.2f m/m' % phi_numpy(0),xy = [0,phi_numpy(0)])\n",
    "plt.annotate('%.2f m/m' % phi_numpy(10),xy = [10,phi_numpy(10)])\n",
    "plt.axis('off');"
   ]
  },
  {
   "cell_type": "code",
   "execution_count": 10,
   "id": "98ef1d3a",
   "metadata": {},
   "outputs": [
    {
     "data": {
      "text/latex": [
       "$\\displaystyle \\frac{L q x}{2} - \\frac{q x^{2}}{2}$"
      ],
      "text/plain": [
       "L*q*x/2 - q*x**2/2"
      ]
     },
     "metadata": {},
     "output_type": "display_data"
    },
    {
     "data": {
      "text/latex": [
       "$\\displaystyle - \\frac{5 x^{2}}{2} + 25 x$"
      ],
      "text/plain": [
       "-5*x**2/2 + 25*x"
      ]
     },
     "metadata": {},
     "output_type": "display_data"
    },
    {
     "data": {
      "image/png": "[encoded data removed]",
      "text/plain": [
       "<Figure size 640x480 with 1 Axes>"
      ]
     },
     "metadata": {},
     "output_type": "display_data"
    }
   ],
   "source": [
    "M_sol = M.subs(sol)\n",
    "display(M_sol)\n",
    "\n",
    "M_subs = M_sol.subs([(EI,1000),(q,5),(L,10)])\n",
    "display(M_subs)\n",
    "\n",
    "M_numpy = sp.lambdify(x,M_subs)\n",
    "M_plot = M_numpy(x_plot)\n",
    "plt.figure()\n",
    "plt.plot(x_plot,M_plot)\n",
    "plt.gca().invert_yaxis()\n",
    "plt.title(\"M-lijn\")\n",
    "plt.axhline(0,color='black')\n",
    "plt.xlim(0,10)\n",
    "plt.annotate('%.1f kNm' % M_numpy(5),xy = [5,M_numpy(5)])\n",
    "plt.axis('off');"
   ]
  },
  {
   "cell_type": "code",
   "execution_count": 11,
   "id": "6e8dc8bb",
   "metadata": {},
   "outputs": [
    {
     "data": {
      "text/latex": [
       "$\\displaystyle \\frac{L q}{2} - q x$"
      ],
      "text/plain": [
       "L*q/2 - q*x"
      ]
     },
     "metadata": {},
     "output_type": "display_data"
    },
    {
     "data": {
      "text/latex": [
       "$\\displaystyle 25 - 5 x$"
      ],
      "text/plain": [
       "25 - 5*x"
      ]
     },
     "metadata": {},
     "output_type": "display_data"
    },
    {
     "data": {
      "image/png": "[encoded data removed]",
      "text/plain": [
       "<Figure size 640x480 with 1 Axes>"
      ]
     },
     "metadata": {},
     "output_type": "display_data"
    }
   ],
   "source": [
    "V_sol = V.subs(sol)\n",
    "display(V_sol)\n",
    "\n",
    "V_subs = V_sol.subs([(EI,1000),(q,5),(L,10)])\n",
    "display(V_subs)\n",
    "\n",
    "V_numpy = sp.lambdify(x,V_subs)\n",
    "V_plot = V_numpy(x_plot)\n",
    "plt.figure()\n",
    "plt.plot(x_plot,V_plot)\n",
    "plt.gca().invert_yaxis()\n",
    "plt.title(\"V-lijn\")\n",
    "plt.axhline(0,color='black')\n",
    "plt.xlim(0,10)\n",
    "plt.annotate('%.1f kN' % V_numpy(0),xy = [0,V_numpy(0)])\n",
    "plt.annotate('%.1f kN' % V_numpy(10),xy = [10,V_numpy(10)])\n",
    "plt.axis('off');"
   ]
  },
  {
   "cell_type": "markdown",
   "id": "298a31a0",
   "metadata": {},
   "source": [
    "## Opdracht 2 ##"
   ]
  },
  {
   "cell_type": "markdown",
   "id": "730cafd4",
   "metadata": {},
   "source": [
    "## Opdracht 2\n",
    "ALs de ligger uit meerdere velden bestaat, kan deze met meerdere differentiaalvergelijkingen worden opgelost.\n",
    "\n",
    "![figuur 1](Data_College_introductie_MatrixFrame_opdracht/Opdracht_2.gif)\n",
    "\n",
    "\n",
    "Voor elk veld moeten allereerst apart de symbolen worden gedefiniëerd"
   ]
  },
  {
   "cell_type": "code",
   "execution_count": 12,
   "id": "c35a87e9",
   "metadata": {
    "scrolled": false
   },
   "outputs": [],
   "source": [
    "q1, q2 = sp.symbols('q1 q2')\n",
    "F, L1, L2, EI = sp.symbols('F L1 L2 EI')\n",
    "C1, C2, C3, C4, C5, C6, C7, C8 = sp.symbols('C1 C2 C3 C4 C5 C6 C7 C8')\n",
    "x = sp.symbols('x')"
   ]
  },
  {
   "cell_type": "markdown",
   "id": "92880c30",
   "metadata": {},
   "source": [
    "De vergelijkingen moeten gelijktijdig worden opgelost zodat er 8 verschillende integratieconstantes worden opgesteld"
   ]
  },
  {
   "cell_type": "code",
   "execution_count": 13,
   "id": "45563384",
   "metadata": {},
   "outputs": [
    {
     "data": {
      "text/latex": [
       "$\\displaystyle - \\frac{C_{1} x^{3}}{6 EI} - \\frac{C_{2} x^{2}}{2 EI} - C_{3} x + C_{4} + \\frac{q_{1} x^{4}}{24 EI}$"
      ],
      "text/plain": [
       "-C1*x**3/(6*EI) - C2*x**2/(2*EI) - C3*x + C4 + q1*x**4/(24*EI)"
      ]
     },
     "metadata": {},
     "output_type": "display_data"
    },
    {
     "data": {
      "text/latex": [
       "$\\displaystyle - \\frac{C_{5} x^{3}}{6 EI} - \\frac{C_{6} x^{2}}{2 EI} - C_{7} x + C_{8} + \\frac{q_{2} x^{4}}{24 EI}$"
      ],
      "text/plain": [
       "-C5*x**3/(6*EI) - C6*x**2/(2*EI) - C7*x + C8 + q2*x**4/(24*EI)"
      ]
     },
     "metadata": {},
     "output_type": "display_data"
    },
    {
     "data": {
      "text/latex": [
       "$\\displaystyle C_{4} = 0$"
      ],
      "text/plain": [
       "Eq(C4, 0)"
      ]
     },
     "metadata": {},
     "output_type": "display_data"
    },
    {
     "data": {
      "text/latex": [
       "$\\displaystyle C_{3} = 0$"
      ],
      "text/plain": [
       "Eq(C3, 0)"
      ]
     },
     "metadata": {},
     "output_type": "display_data"
    },
    {
     "data": {
      "text/latex": [
       "$\\displaystyle - \\frac{C_{1} L_{1}^{3}}{6 EI} - \\frac{C_{2} L_{1}^{2}}{2 EI} - C_{3} L_{1} + C_{4} + \\frac{L_{1}^{4} q_{1}}{24 EI} = - \\frac{C_{5} L_{1}^{3}}{6 EI} - \\frac{C_{6} L_{1}^{2}}{2 EI} - C_{7} L_{1} + C_{8} + \\frac{L_{1}^{4} q_{2}}{24 EI}$"
      ],
      "text/plain": [
       "Eq(-C1*L1**3/(6*EI) - C2*L1**2/(2*EI) - C3*L1 + C4 + L1**4*q1/(24*EI), -C5*L1**3/(6*EI) - C6*L1**2/(2*EI) - C7*L1 + C8 + L1**4*q2/(24*EI))"
      ]
     },
     "metadata": {},
     "output_type": "display_data"
    },
    {
     "data": {
      "text/latex": [
       "$\\displaystyle C_{1} L_{1} + C_{2} - \\frac{L_{1}^{2} q_{1}}{2} = C_{5} L_{1} + C_{6} - \\frac{L_{1}^{2} q_{2}}{2}$"
      ],
      "text/plain": [
       "Eq(C1*L1 + C2 - L1**2*q1/2, C5*L1 + C6 - L1**2*q2/2)"
      ]
     },
     "metadata": {},
     "output_type": "display_data"
    },
    {
     "data": {
      "text/latex": [
       "$\\displaystyle C_{1} - L_{1} q_{1} = C_{5} + F - L_{1} q_{2}$"
      ],
      "text/plain": [
       "Eq(C1 - L1*q1, C5 + F - L1*q2)"
      ]
     },
     "metadata": {},
     "output_type": "display_data"
    },
    {
     "data": {
      "text/latex": [
       "$\\displaystyle \\frac{C_{1} L_{1}^{2}}{2 EI} + \\frac{C_{2} L_{1}}{EI} + C_{3} - \\frac{L_{1}^{3} q_{1}}{6 EI} = \\frac{C_{5} L_{1}^{2}}{2 EI} + \\frac{C_{6} L_{1}}{EI} + C_{7} - \\frac{L_{1}^{3} q_{2}}{6 EI}$"
      ],
      "text/plain": [
       "Eq(C1*L1**2/(2*EI) + C2*L1/EI + C3 - L1**3*q1/(6*EI), C5*L1**2/(2*EI) + C6*L1/EI + C7 - L1**3*q2/(6*EI))"
      ]
     },
     "metadata": {},
     "output_type": "display_data"
    },
    {
     "data": {
      "text/latex": [
       "$\\displaystyle - \\frac{C_{5} \\left(L_{1} + L_{2}\\right)^{3}}{6 EI} - \\frac{C_{6} \\left(L_{1} + L_{2}\\right)^{2}}{2 EI} - C_{7} \\left(L_{1} + L_{2}\\right) + C_{8} + \\frac{q_{2} \\left(L_{1} + L_{2}\\right)^{4}}{24 EI} = 0$"
      ],
      "text/plain": [
       "Eq(-C5*(L1 + L2)**3/(6*EI) - C6*(L1 + L2)**2/(2*EI) - C7*(L1 + L2) + C8 + q2*(L1 + L2)**4/(24*EI), 0)"
      ]
     },
     "metadata": {},
     "output_type": "display_data"
    },
    {
     "data": {
      "text/latex": [
       "$\\displaystyle C_{5} \\left(L_{1} + L_{2}\\right) + C_{6} - \\frac{q_{2} \\left(L_{1} + L_{2}\\right)^{2}}{2} = 0$"
      ],
      "text/plain": [
       "Eq(C5*(L1 + L2) + C6 - q2*(L1 + L2)**2/2, 0)"
      ]
     },
     "metadata": {},
     "output_type": "display_data"
    }
   ],
   "source": [
    "V1 = sp.integrate(-q1,x)+C1\n",
    "M1 = sp.integrate(V1,x)+C2\n",
    "kappa1 = M1 / EI\n",
    "phi1 = sp.integrate(kappa1,x)+C3\n",
    "w1 = sp.integrate(-phi1,x)+C4\n",
    "display(w1)\n",
    "\n",
    "V2 = sp.integrate(-q2,x)+C5\n",
    "M2 = sp.integrate(V2,x)+C6\n",
    "kappa2 = M2 / EI\n",
    "phi2 = sp.integrate(kappa2,x)+C7\n",
    "w2 = sp.integrate(-phi2,x)+C8\n",
    "display(w2)\n",
    "\n",
    "Eq1 = sp.Eq(w1.subs(x,0),0)\n",
    "Eq2 = sp.Eq(phi1.subs(x,0),0)\n",
    "Eq3 = sp.Eq(w1.subs(x,L1),w2.subs(x,L1))\n",
    "Eq4 = sp.Eq(M1.subs(x,L1),M2.subs(x,L1))\n",
    "Eq5 = sp.Eq(V1.subs(x,L1),V2.subs(x,L1)+F)\n",
    "Eq6 = sp.Eq(phi1.subs(x,L1),phi2.subs(x,L1))\n",
    "Eq7 = sp.Eq(w2.subs(x,L1+L2),0)\n",
    "Eq8 = sp.Eq(M2.subs(x,L1+L2),0)\n",
    "display(Eq1,Eq2,Eq3,Eq4,Eq5,Eq6,Eq7,Eq8)"
   ]
  },
  {
   "cell_type": "code",
   "execution_count": 14,
   "id": "a5ade4ee",
   "metadata": {},
   "outputs": [
    {
     "data": {
      "text/latex": [
       "$\\displaystyle \\frac{12 F L_{1}^{2} L_{2} + 24 F L_{1} L_{2}^{2} + 8 F L_{2}^{3} + 5 L_{1}^{4} q_{1} + 20 L_{1}^{3} L_{2} q_{1} + 24 L_{1}^{2} L_{2}^{2} q_{1} + 6 L_{1}^{2} L_{2}^{2} q_{2} + 8 L_{1} L_{2}^{3} q_{1} + 12 L_{1} L_{2}^{3} q_{2} + 5 L_{2}^{4} q_{2}}{8 L_{1}^{3} + 24 L_{1}^{2} L_{2} + 24 L_{1} L_{2}^{2} + 8 L_{2}^{3}}$"
      ],
      "text/plain": [
       "(12*F*L1**2*L2 + 24*F*L1*L2**2 + 8*F*L2**3 + 5*L1**4*q1 + 20*L1**3*L2*q1 + 24*L1**2*L2**2*q1 + 6*L1**2*L2**2*q2 + 8*L1*L2**3*q1 + 12*L1*L2**3*q2 + 5*L2**4*q2)/(8*L1**3 + 24*L1**2*L2 + 24*L1*L2**2 + 8*L2**3)"
      ]
     },
     "metadata": {},
     "output_type": "display_data"
    },
    {
     "data": {
      "text/latex": [
       "$\\displaystyle \\frac{- 4 F L_{1}^{2} L_{2} - 8 F L_{1} L_{2}^{2} - L_{1}^{4} q_{1} - 4 L_{1}^{3} L_{2} q_{1} - 4 L_{1}^{2} L_{2}^{2} q_{1} - 2 L_{1}^{2} L_{2}^{2} q_{2} - 4 L_{1} L_{2}^{3} q_{2} - L_{2}^{4} q_{2}}{8 L_{1}^{2} + 16 L_{1} L_{2} + 8 L_{2}^{2}}$"
      ],
      "text/plain": [
       "(-4*F*L1**2*L2 - 8*F*L1*L2**2 - L1**4*q1 - 4*L1**3*L2*q1 - 4*L1**2*L2**2*q1 - 2*L1**2*L2**2*q2 - 4*L1*L2**3*q2 - L2**4*q2)/(8*L1**2 + 16*L1*L2 + 8*L2**2)"
      ]
     },
     "metadata": {},
     "output_type": "display_data"
    },
    {
     "data": {
      "text/latex": [
       "$\\displaystyle 0$"
      ],
      "text/plain": [
       "0"
      ]
     },
     "metadata": {},
     "output_type": "display_data"
    },
    {
     "data": {
      "text/latex": [
       "$\\displaystyle 0$"
      ],
      "text/plain": [
       "0"
      ]
     },
     "metadata": {},
     "output_type": "display_data"
    },
    {
     "data": {
      "text/latex": [
       "$\\displaystyle \\frac{- 8 F L_{1}^{3} - 12 F L_{1}^{2} L_{2} - 3 L_{1}^{4} q_{1} + 8 L_{1}^{4} q_{2} - 4 L_{1}^{3} L_{2} q_{1} + 24 L_{1}^{3} L_{2} q_{2} + 30 L_{1}^{2} L_{2}^{2} q_{2} + 20 L_{1} L_{2}^{3} q_{2} + 5 L_{2}^{4} q_{2}}{8 L_{1}^{3} + 24 L_{1}^{2} L_{2} + 24 L_{1} L_{2}^{2} + 8 L_{2}^{3}}$"
      ],
      "text/plain": [
       "(-8*F*L1**3 - 12*F*L1**2*L2 - 3*L1**4*q1 + 8*L1**4*q2 - 4*L1**3*L2*q1 + 24*L1**3*L2*q2 + 30*L1**2*L2**2*q2 + 20*L1*L2**3*q2 + 5*L2**4*q2)/(8*L1**3 + 24*L1**2*L2 + 24*L1*L2**2 + 8*L2**3)"
      ]
     },
     "metadata": {},
     "output_type": "display_data"
    },
    {
     "data": {
      "text/latex": [
       "$\\displaystyle \\frac{8 F L_{1}^{3} + 12 F L_{1}^{2} L_{2} + 3 L_{1}^{4} q_{1} - 4 L_{1}^{4} q_{2} + 4 L_{1}^{3} L_{2} q_{1} - 8 L_{1}^{3} L_{2} q_{2} - 6 L_{1}^{2} L_{2}^{2} q_{2} - 4 L_{1} L_{2}^{3} q_{2} - L_{2}^{4} q_{2}}{8 L_{1}^{2} + 16 L_{1} L_{2} + 8 L_{2}^{2}}$"
      ],
      "text/plain": [
       "(8*F*L1**3 + 12*F*L1**2*L2 + 3*L1**4*q1 - 4*L1**4*q2 + 4*L1**3*L2*q1 - 8*L1**3*L2*q2 - 6*L1**2*L2**2*q2 - 4*L1*L2**3*q2 - L2**4*q2)/(8*L1**2 + 16*L1*L2 + 8*L2**2)"
      ]
     },
     "metadata": {},
     "output_type": "display_data"
    },
    {
     "data": {
      "text/latex": [
       "$\\displaystyle \\frac{- 3 F L_{1}^{2} - L_{1}^{3} q_{1} + L_{1}^{3} q_{2}}{6 EI}$"
      ],
      "text/plain": [
       "(-3*F*L1**2 - L1**3*q1 + L1**3*q2)/(6*EI)"
      ]
     },
     "metadata": {},
     "output_type": "display_data"
    },
    {
     "data": {
      "text/latex": [
       "$\\displaystyle \\frac{- 4 F L_{1}^{3} - L_{1}^{4} q_{1} + L_{1}^{4} q_{2}}{24 EI}$"
      ],
      "text/plain": [
       "(-4*F*L1**3 - L1**4*q1 + L1**4*q2)/(24*EI)"
      ]
     },
     "metadata": {},
     "output_type": "display_data"
    }
   ],
   "source": [
    "sol = sp.solve((Eq1,Eq2,Eq3,Eq4,Eq5,Eq6,Eq7,Eq8),(C1,C2,C3,C4,C5,C6,C7,C8))\n",
    "display(sol[C1])\n",
    "display(sol[C2])\n",
    "display(sol[C3])\n",
    "display(sol[C4])\n",
    "display(sol[C5])\n",
    "display(sol[C6])\n",
    "display(sol[C7])\n",
    "display(sol[C8])"
   ]
  },
  {
   "cell_type": "code",
   "execution_count": 15,
   "id": "e1078338",
   "metadata": {},
   "outputs": [
    {
     "data": {
      "text/latex": [
       "$\\displaystyle \\frac{q_{1} x^{4}}{24 EI} - \\frac{x^{3} \\cdot \\left(12 F L_{1}^{2} L_{2} + 24 F L_{1} L_{2}^{2} + 8 F L_{2}^{3} + 5 L_{1}^{4} q_{1} + 20 L_{1}^{3} L_{2} q_{1} + 24 L_{1}^{2} L_{2}^{2} q_{1} + 6 L_{1}^{2} L_{2}^{2} q_{2} + 8 L_{1} L_{2}^{3} q_{1} + 12 L_{1} L_{2}^{3} q_{2} + 5 L_{2}^{4} q_{2}\\right)}{6 EI \\left(8 L_{1}^{3} + 24 L_{1}^{2} L_{2} + 24 L_{1} L_{2}^{2} + 8 L_{2}^{3}\\right)} - \\frac{x^{2} \\left(- 4 F L_{1}^{2} L_{2} - 8 F L_{1} L_{2}^{2} - L_{1}^{4} q_{1} - 4 L_{1}^{3} L_{2} q_{1} - 4 L_{1}^{2} L_{2}^{2} q_{1} - 2 L_{1}^{2} L_{2}^{2} q_{2} - 4 L_{1} L_{2}^{3} q_{2} - L_{2}^{4} q_{2}\\right)}{2 EI \\left(8 L_{1}^{2} + 16 L_{1} L_{2} + 8 L_{2}^{2}\\right)}$"
      ],
      "text/plain": [
       "q1*x**4/(24*EI) - x**3*(12*F*L1**2*L2 + 24*F*L1*L2**2 + 8*F*L2**3 + 5*L1**4*q1 + 20*L1**3*L2*q1 + 24*L1**2*L2**2*q1 + 6*L1**2*L2**2*q2 + 8*L1*L2**3*q1 + 12*L1*L2**3*q2 + 5*L2**4*q2)/(6*EI*(8*L1**3 + 24*L1**2*L2 + 24*L1*L2**2 + 8*L2**3)) - x**2*(-4*F*L1**2*L2 - 8*F*L1*L2**2 - L1**4*q1 - 4*L1**3*L2*q1 - 4*L1**2*L2**2*q1 - 2*L1**2*L2**2*q2 - 4*L1*L2**3*q2 - L2**4*q2)/(2*EI*(8*L1**2 + 16*L1*L2 + 8*L2**2))"
      ]
     },
     "metadata": {},
     "output_type": "display_data"
    },
    {
     "data": {
      "text/latex": [
       "$\\displaystyle \\frac{q_{2} x^{4}}{24 EI} - \\frac{x^{3} \\left(- 8 F L_{1}^{3} - 12 F L_{1}^{2} L_{2} - 3 L_{1}^{4} q_{1} + 8 L_{1}^{4} q_{2} - 4 L_{1}^{3} L_{2} q_{1} + 24 L_{1}^{3} L_{2} q_{2} + 30 L_{1}^{2} L_{2}^{2} q_{2} + 20 L_{1} L_{2}^{3} q_{2} + 5 L_{2}^{4} q_{2}\\right)}{6 EI \\left(8 L_{1}^{3} + 24 L_{1}^{2} L_{2} + 24 L_{1} L_{2}^{2} + 8 L_{2}^{3}\\right)} - \\frac{x^{2} \\cdot \\left(8 F L_{1}^{3} + 12 F L_{1}^{2} L_{2} + 3 L_{1}^{4} q_{1} - 4 L_{1}^{4} q_{2} + 4 L_{1}^{3} L_{2} q_{1} - 8 L_{1}^{3} L_{2} q_{2} - 6 L_{1}^{2} L_{2}^{2} q_{2} - 4 L_{1} L_{2}^{3} q_{2} - L_{2}^{4} q_{2}\\right)}{2 EI \\left(8 L_{1}^{2} + 16 L_{1} L_{2} + 8 L_{2}^{2}\\right)} - \\frac{x \\left(- 3 F L_{1}^{2} - L_{1}^{3} q_{1} + L_{1}^{3} q_{2}\\right)}{6 EI} + \\frac{- 4 F L_{1}^{3} - L_{1}^{4} q_{1} + L_{1}^{4} q_{2}}{24 EI}$"
      ],
      "text/plain": [
       "q2*x**4/(24*EI) - x**3*(-8*F*L1**3 - 12*F*L1**2*L2 - 3*L1**4*q1 + 8*L1**4*q2 - 4*L1**3*L2*q1 + 24*L1**3*L2*q2 + 30*L1**2*L2**2*q2 + 20*L1*L2**3*q2 + 5*L2**4*q2)/(6*EI*(8*L1**3 + 24*L1**2*L2 + 24*L1*L2**2 + 8*L2**3)) - x**2*(8*F*L1**3 + 12*F*L1**2*L2 + 3*L1**4*q1 - 4*L1**4*q2 + 4*L1**3*L2*q1 - 8*L1**3*L2*q2 - 6*L1**2*L2**2*q2 - 4*L1*L2**3*q2 - L2**4*q2)/(2*EI*(8*L1**2 + 16*L1*L2 + 8*L2**2)) - x*(-3*F*L1**2 - L1**3*q1 + L1**3*q2)/(6*EI) + (-4*F*L1**3 - L1**4*q1 + L1**4*q2)/(24*EI)"
      ]
     },
     "metadata": {},
     "output_type": "display_data"
    }
   ],
   "source": [
    "w1_sol = w1.subs(sol)\n",
    "w2_sol = w2.subs(sol)\n",
    "display(w1_sol,w2_sol)"
   ]
  },
  {
   "cell_type": "code",
   "execution_count": 16,
   "id": "47f629e9",
   "metadata": {},
   "outputs": [
    {
     "data": {
      "text/latex": [
       "$\\displaystyle - \\frac{231 x^{3}}{40960} + \\frac{181 x^{2}}{5120}$"
      ],
      "text/plain": [
       "-231*x**3/40960 + 181*x**2/5120"
      ]
     },
     "metadata": {},
     "output_type": "display_data"
    },
    {
     "data": {
      "text/latex": [
       "$\\displaystyle \\frac{x^{4}}{3000} - \\frac{19373 x^{3}}{3072000} + \\frac{2989 x^{2}}{128000} + \\frac{27 x}{500} - \\frac{63}{1000}$"
      ],
      "text/plain": [
       "x**4/3000 - 19373*x**3/3072000 + 2989*x**2/128000 + 27*x/500 - 63/1000"
      ]
     },
     "metadata": {},
     "output_type": "display_data"
    }
   ],
   "source": [
    "w1_subs = w1_sol.subs([(EI,1000),(F,20),(q1,0),(q2,8),(L1,3),(L2,5)])\n",
    "w2_subs = w2_sol.subs([(EI,1000),(F,20),(q1,0),(q2,8),(L1,3),(L2,5)])\n",
    "display(w1_subs,w2_subs)"
   ]
  },
  {
   "cell_type": "code",
   "execution_count": 17,
   "id": "79e7318e",
   "metadata": {},
   "outputs": [
    {
     "data": {
      "image/png": "[encoded data removed]",
      "text/plain": [
       "<Figure size 640x480 with 1 Axes>"
      ]
     },
     "metadata": {},
     "output_type": "display_data"
    }
   ],
   "source": [
    "x1_plot = np.linspace(0,3,30)\n",
    "x2_plot = np.linspace(3,8,80)\n",
    "w1_numpy = sp.lambdify(x,w1_subs)\n",
    "w2_numpy = sp.lambdify(x,w2_subs)\n",
    "w1_plot = w1_numpy(x1_plot)\n",
    "w2_plot = w2_numpy(x2_plot)\n",
    "plt.plot(x1_plot,w1_plot)\n",
    "plt.plot(x2_plot,w2_plot)\n",
    "plt.gca().invert_yaxis()\n",
    "plt.title(\"w-lijn\")\n",
    "plt.axhline(0,color='black')\n",
    "plt.xlim(0,8)\n",
    "plt.annotate('%.2f m' % w1_numpy(3),xy = [3,w1_numpy(3)])\n",
    "plt.axis('off');"
   ]
  },
  {
   "cell_type": "code",
   "execution_count": 18,
   "id": "adb56c39",
   "metadata": {},
   "outputs": [
    {
     "data": {
      "text/latex": [
       "$\\displaystyle - \\frac{q_{1} x^{3}}{6 EI} + \\frac{x^{2} \\cdot \\left(12 F L_{1}^{2} L_{2} + 24 F L_{1} L_{2}^{2} + 8 F L_{2}^{3} + 5 L_{1}^{4} q_{1} + 20 L_{1}^{3} L_{2} q_{1} + 24 L_{1}^{2} L_{2}^{2} q_{1} + 6 L_{1}^{2} L_{2}^{2} q_{2} + 8 L_{1} L_{2}^{3} q_{1} + 12 L_{1} L_{2}^{3} q_{2} + 5 L_{2}^{4} q_{2}\\right)}{2 EI \\left(8 L_{1}^{3} + 24 L_{1}^{2} L_{2} + 24 L_{1} L_{2}^{2} + 8 L_{2}^{3}\\right)} + \\frac{x \\left(- 4 F L_{1}^{2} L_{2} - 8 F L_{1} L_{2}^{2} - L_{1}^{4} q_{1} - 4 L_{1}^{3} L_{2} q_{1} - 4 L_{1}^{2} L_{2}^{2} q_{1} - 2 L_{1}^{2} L_{2}^{2} q_{2} - 4 L_{1} L_{2}^{3} q_{2} - L_{2}^{4} q_{2}\\right)}{EI \\left(8 L_{1}^{2} + 16 L_{1} L_{2} + 8 L_{2}^{2}\\right)}$"
      ],
      "text/plain": [
       "-q1*x**3/(6*EI) + x**2*(12*F*L1**2*L2 + 24*F*L1*L2**2 + 8*F*L2**3 + 5*L1**4*q1 + 20*L1**3*L2*q1 + 24*L1**2*L2**2*q1 + 6*L1**2*L2**2*q2 + 8*L1*L2**3*q1 + 12*L1*L2**3*q2 + 5*L2**4*q2)/(2*EI*(8*L1**3 + 24*L1**2*L2 + 24*L1*L2**2 + 8*L2**3)) + x*(-4*F*L1**2*L2 - 8*F*L1*L2**2 - L1**4*q1 - 4*L1**3*L2*q1 - 4*L1**2*L2**2*q1 - 2*L1**2*L2**2*q2 - 4*L1*L2**3*q2 - L2**4*q2)/(EI*(8*L1**2 + 16*L1*L2 + 8*L2**2))"
      ]
     },
     "metadata": {},
     "output_type": "display_data"
    },
    {
     "data": {
      "text/latex": [
       "$\\displaystyle - \\frac{q_{2} x^{3}}{6 EI} + \\frac{x^{2} \\left(- 8 F L_{1}^{3} - 12 F L_{1}^{2} L_{2} - 3 L_{1}^{4} q_{1} + 8 L_{1}^{4} q_{2} - 4 L_{1}^{3} L_{2} q_{1} + 24 L_{1}^{3} L_{2} q_{2} + 30 L_{1}^{2} L_{2}^{2} q_{2} + 20 L_{1} L_{2}^{3} q_{2} + 5 L_{2}^{4} q_{2}\\right)}{2 EI \\left(8 L_{1}^{3} + 24 L_{1}^{2} L_{2} + 24 L_{1} L_{2}^{2} + 8 L_{2}^{3}\\right)} + \\frac{x \\left(8 F L_{1}^{3} + 12 F L_{1}^{2} L_{2} + 3 L_{1}^{4} q_{1} - 4 L_{1}^{4} q_{2} + 4 L_{1}^{3} L_{2} q_{1} - 8 L_{1}^{3} L_{2} q_{2} - 6 L_{1}^{2} L_{2}^{2} q_{2} - 4 L_{1} L_{2}^{3} q_{2} - L_{2}^{4} q_{2}\\right)}{EI \\left(8 L_{1}^{2} + 16 L_{1} L_{2} + 8 L_{2}^{2}\\right)} + \\frac{- 3 F L_{1}^{2} - L_{1}^{3} q_{1} + L_{1}^{3} q_{2}}{6 EI}$"
      ],
      "text/plain": [
       "-q2*x**3/(6*EI) + x**2*(-8*F*L1**3 - 12*F*L1**2*L2 - 3*L1**4*q1 + 8*L1**4*q2 - 4*L1**3*L2*q1 + 24*L1**3*L2*q2 + 30*L1**2*L2**2*q2 + 20*L1*L2**3*q2 + 5*L2**4*q2)/(2*EI*(8*L1**3 + 24*L1**2*L2 + 24*L1*L2**2 + 8*L2**3)) + x*(8*F*L1**3 + 12*F*L1**2*L2 + 3*L1**4*q1 - 4*L1**4*q2 + 4*L1**3*L2*q1 - 8*L1**3*L2*q2 - 6*L1**2*L2**2*q2 - 4*L1*L2**3*q2 - L2**4*q2)/(EI*(8*L1**2 + 16*L1*L2 + 8*L2**2)) + (-3*F*L1**2 - L1**3*q1 + L1**3*q2)/(6*EI)"
      ]
     },
     "metadata": {},
     "output_type": "display_data"
    },
    {
     "data": {
      "text/latex": [
       "$\\displaystyle \\frac{693 x^{2}}{40960} - \\frac{181 x}{2560}$"
      ],
      "text/plain": [
       "693*x**2/40960 - 181*x/2560"
      ]
     },
     "metadata": {},
     "output_type": "display_data"
    },
    {
     "data": {
      "text/latex": [
       "$\\displaystyle - \\frac{x^{3}}{750} + \\frac{19373 x^{2}}{1024000} - \\frac{2989 x}{64000} - \\frac{27}{500}$"
      ],
      "text/plain": [
       "-x**3/750 + 19373*x**2/1024000 - 2989*x/64000 - 27/500"
      ]
     },
     "metadata": {},
     "output_type": "display_data"
    },
    {
     "data": {
      "image/png": "[encoded data removed]",
      "text/plain": [
       "<Figure size 640x480 with 1 Axes>"
      ]
     },
     "metadata": {},
     "output_type": "display_data"
    }
   ],
   "source": [
    "phi1_sol = phi1.subs(sol)\n",
    "phi2_sol = phi2.subs(sol)\n",
    "display(phi1_sol, phi2_sol)\n",
    "\n",
    "phi1_subs = phi1_sol.subs([(EI,1000),(F,20),(q1,0),(q2,8),(L1,3),(L2,5)])\n",
    "phi2_subs = phi2_sol.subs([(EI,1000),(F,20),(q1,0),(q2,8),(L1,3),(L2,5)])\n",
    "display(phi1_subs, phi2_subs)\n",
    "\n",
    "phi1_numpy = sp.lambdify(x,phi1_subs)\n",
    "phi2_numpy = sp.lambdify(x,phi2_subs)\n",
    "phi1_plot = phi1_numpy(x1_plot)\n",
    "phi2_plot = phi2_numpy(x2_plot)\n",
    "plt.figure()\n",
    "plt.plot(x1_plot,phi1_plot)\n",
    "plt.plot(x2_plot,phi2_plot)\n",
    "plt.gca().invert_yaxis()\n",
    "plt.title(\"phi-lijn\")\n",
    "plt.axhline(0,color='black')\n",
    "plt.xlim(0,8)\n",
    "plt.annotate('%.4f m/m' % phi1_numpy(3),xy = [3,phi1_numpy(3)])\n",
    "plt.annotate('%.4f m/m' % phi2_numpy(8),xy = [8,phi2_numpy(8)])\n",
    "plt.axis('off');"
   ]
  },
  {
   "cell_type": "code",
   "execution_count": 19,
   "id": "57beedf5",
   "metadata": {},
   "outputs": [
    {
     "data": {
      "text/latex": [
       "$\\displaystyle - \\frac{q_{1} x^{2}}{2} + \\frac{x \\left(12 F L_{1}^{2} L_{2} + 24 F L_{1} L_{2}^{2} + 8 F L_{2}^{3} + 5 L_{1}^{4} q_{1} + 20 L_{1}^{3} L_{2} q_{1} + 24 L_{1}^{2} L_{2}^{2} q_{1} + 6 L_{1}^{2} L_{2}^{2} q_{2} + 8 L_{1} L_{2}^{3} q_{1} + 12 L_{1} L_{2}^{3} q_{2} + 5 L_{2}^{4} q_{2}\\right)}{8 L_{1}^{3} + 24 L_{1}^{2} L_{2} + 24 L_{1} L_{2}^{2} + 8 L_{2}^{3}} + \\frac{- 4 F L_{1}^{2} L_{2} - 8 F L_{1} L_{2}^{2} - L_{1}^{4} q_{1} - 4 L_{1}^{3} L_{2} q_{1} - 4 L_{1}^{2} L_{2}^{2} q_{1} - 2 L_{1}^{2} L_{2}^{2} q_{2} - 4 L_{1} L_{2}^{3} q_{2} - L_{2}^{4} q_{2}}{8 L_{1}^{2} + 16 L_{1} L_{2} + 8 L_{2}^{2}}$"
      ],
      "text/plain": [
       "-q1*x**2/2 + x*(12*F*L1**2*L2 + 24*F*L1*L2**2 + 8*F*L2**3 + 5*L1**4*q1 + 20*L1**3*L2*q1 + 24*L1**2*L2**2*q1 + 6*L1**2*L2**2*q2 + 8*L1*L2**3*q1 + 12*L1*L2**3*q2 + 5*L2**4*q2)/(8*L1**3 + 24*L1**2*L2 + 24*L1*L2**2 + 8*L2**3) + (-4*F*L1**2*L2 - 8*F*L1*L2**2 - L1**4*q1 - 4*L1**3*L2*q1 - 4*L1**2*L2**2*q1 - 2*L1**2*L2**2*q2 - 4*L1*L2**3*q2 - L2**4*q2)/(8*L1**2 + 16*L1*L2 + 8*L2**2)"
      ]
     },
     "metadata": {},
     "output_type": "display_data"
    },
    {
     "data": {
      "text/latex": [
       "$\\displaystyle - \\frac{q_{2} x^{2}}{2} + \\frac{x \\left(- 8 F L_{1}^{3} - 12 F L_{1}^{2} L_{2} - 3 L_{1}^{4} q_{1} + 8 L_{1}^{4} q_{2} - 4 L_{1}^{3} L_{2} q_{1} + 24 L_{1}^{3} L_{2} q_{2} + 30 L_{1}^{2} L_{2}^{2} q_{2} + 20 L_{1} L_{2}^{3} q_{2} + 5 L_{2}^{4} q_{2}\\right)}{8 L_{1}^{3} + 24 L_{1}^{2} L_{2} + 24 L_{1} L_{2}^{2} + 8 L_{2}^{3}} + \\frac{8 F L_{1}^{3} + 12 F L_{1}^{2} L_{2} + 3 L_{1}^{4} q_{1} - 4 L_{1}^{4} q_{2} + 4 L_{1}^{3} L_{2} q_{1} - 8 L_{1}^{3} L_{2} q_{2} - 6 L_{1}^{2} L_{2}^{2} q_{2} - 4 L_{1} L_{2}^{3} q_{2} - L_{2}^{4} q_{2}}{8 L_{1}^{2} + 16 L_{1} L_{2} + 8 L_{2}^{2}}$"
      ],
      "text/plain": [
       "-q2*x**2/2 + x*(-8*F*L1**3 - 12*F*L1**2*L2 - 3*L1**4*q1 + 8*L1**4*q2 - 4*L1**3*L2*q1 + 24*L1**3*L2*q2 + 30*L1**2*L2**2*q2 + 20*L1*L2**3*q2 + 5*L2**4*q2)/(8*L1**3 + 24*L1**2*L2 + 24*L1*L2**2 + 8*L2**3) + (8*F*L1**3 + 12*F*L1**2*L2 + 3*L1**4*q1 - 4*L1**4*q2 + 4*L1**3*L2*q1 - 8*L1**3*L2*q2 - 6*L1**2*L2**2*q2 - 4*L1*L2**3*q2 - L2**4*q2)/(8*L1**2 + 16*L1*L2 + 8*L2**2)"
      ]
     },
     "metadata": {},
     "output_type": "display_data"
    },
    {
     "data": {
      "text/latex": [
       "$\\displaystyle \\frac{17325 x}{512} - \\frac{4525}{64}$"
      ],
      "text/plain": [
       "17325*x/512 - 4525/64"
      ]
     },
     "metadata": {},
     "output_type": "display_data"
    },
    {
     "data": {
      "text/latex": [
       "$\\displaystyle - 4 x^{2} + \\frac{19373 x}{512} - \\frac{2989}{64}$"
      ],
      "text/plain": [
       "-4*x**2 + 19373*x/512 - 2989/64"
      ]
     },
     "metadata": {},
     "output_type": "display_data"
    },
    {
     "data": {
      "image/png": "[encoded data removed]",
      "text/plain": [
       "<Figure size 640x480 with 1 Axes>"
      ]
     },
     "metadata": {},
     "output_type": "display_data"
    }
   ],
   "source": [
    "M1_sol = M1.subs(sol)\n",
    "M2_sol = M2.subs(sol)\n",
    "display(M1_sol, M2_sol)\n",
    "\n",
    "M1_subs = M1_sol.subs([(EI,1000),(F,20),(q1,0),(q2,8),(L1,3),(L2,5)])\n",
    "M2_subs = M2_sol.subs([(EI,1000),(F,20),(q1,0),(q2,8),(L1,3),(L2,5)])\n",
    "display(M1_subs, M2_subs)\n",
    "\n",
    "M1_numpy = sp.lambdify(x,M1_subs)\n",
    "M2_numpy = sp.lambdify(x,M2_subs)\n",
    "M1_plot = M1_numpy(x1_plot)\n",
    "M2_plot = M2_numpy(x2_plot)\n",
    "plt.figure()\n",
    "plt.plot(x1_plot,M1_plot)\n",
    "plt.plot(x2_plot,M2_plot)\n",
    "plt.gca().invert_yaxis()\n",
    "plt.title(\"M-lijn\")\n",
    "plt.axhline(0,color='black')\n",
    "plt.xlim(0,8)\n",
    "plt.annotate('%.2f kNm' % M1_numpy(0),xy = [0,M1_numpy(0)])\n",
    "plt.annotate('%.2f kNm' % M1_numpy(3),xy = [3,M1_numpy(3)])\n",
    "plt.annotate('%.2f kNm' % M2_numpy(5.5),xy = [5.5,M2_numpy(5.5)])\n",
    "plt.axis('off');"
   ]
  },
  {
   "cell_type": "code",
   "execution_count": 20,
   "id": "79833f13",
   "metadata": {},
   "outputs": [
    {
     "data": {
      "text/latex": [
       "$\\displaystyle - q_{1} x + \\frac{12 F L_{1}^{2} L_{2} + 24 F L_{1} L_{2}^{2} + 8 F L_{2}^{3} + 5 L_{1}^{4} q_{1} + 20 L_{1}^{3} L_{2} q_{1} + 24 L_{1}^{2} L_{2}^{2} q_{1} + 6 L_{1}^{2} L_{2}^{2} q_{2} + 8 L_{1} L_{2}^{3} q_{1} + 12 L_{1} L_{2}^{3} q_{2} + 5 L_{2}^{4} q_{2}}{8 L_{1}^{3} + 24 L_{1}^{2} L_{2} + 24 L_{1} L_{2}^{2} + 8 L_{2}^{3}}$"
      ],
      "text/plain": [
       "-q1*x + (12*F*L1**2*L2 + 24*F*L1*L2**2 + 8*F*L2**3 + 5*L1**4*q1 + 20*L1**3*L2*q1 + 24*L1**2*L2**2*q1 + 6*L1**2*L2**2*q2 + 8*L1*L2**3*q1 + 12*L1*L2**3*q2 + 5*L2**4*q2)/(8*L1**3 + 24*L1**2*L2 + 24*L1*L2**2 + 8*L2**3)"
      ]
     },
     "metadata": {},
     "output_type": "display_data"
    },
    {
     "data": {
      "text/latex": [
       "$\\displaystyle - q_{2} x + \\frac{- 8 F L_{1}^{3} - 12 F L_{1}^{2} L_{2} - 3 L_{1}^{4} q_{1} + 8 L_{1}^{4} q_{2} - 4 L_{1}^{3} L_{2} q_{1} + 24 L_{1}^{3} L_{2} q_{2} + 30 L_{1}^{2} L_{2}^{2} q_{2} + 20 L_{1} L_{2}^{3} q_{2} + 5 L_{2}^{4} q_{2}}{8 L_{1}^{3} + 24 L_{1}^{2} L_{2} + 24 L_{1} L_{2}^{2} + 8 L_{2}^{3}}$"
      ],
      "text/plain": [
       "-q2*x + (-8*F*L1**3 - 12*F*L1**2*L2 - 3*L1**4*q1 + 8*L1**4*q2 - 4*L1**3*L2*q1 + 24*L1**3*L2*q2 + 30*L1**2*L2**2*q2 + 20*L1*L2**3*q2 + 5*L2**4*q2)/(8*L1**3 + 24*L1**2*L2 + 24*L1*L2**2 + 8*L2**3)"
      ]
     },
     "metadata": {},
     "output_type": "display_data"
    },
    {
     "data": {
      "text/latex": [
       "$\\displaystyle \\frac{17325}{512}$"
      ],
      "text/plain": [
       "17325/512"
      ]
     },
     "metadata": {},
     "output_type": "display_data"
    },
    {
     "data": {
      "text/latex": [
       "$\\displaystyle \\frac{19373}{512} - 8 x$"
      ],
      "text/plain": [
       "19373/512 - 8*x"
      ]
     },
     "metadata": {},
     "output_type": "display_data"
    },
    {
     "data": {
      "image/png": "[encoded data removed]",
      "text/plain": [
       "<Figure size 640x480 with 1 Axes>"
      ]
     },
     "metadata": {},
     "output_type": "display_data"
    }
   ],
   "source": [
    "V1_sol = V1.subs(sol)\n",
    "V2_sol = V2.subs(sol)\n",
    "display(V1_sol, V2_sol)\n",
    "\n",
    "V1_subs = V1_sol.subs([(EI,1000),(F,20),(q1,0),(q2,8),(L1,3),(L2,5)])\n",
    "V2_subs = V2_sol.subs([(EI,1000),(F,20),(q1,0),(q2,8),(L1,3),(L2,5)])\n",
    "display(V1_subs, V2_subs)\n",
    "\n",
    "V1_numpy = sp.lambdify(x,V1_subs)\n",
    "V2_numpy = sp.lambdify(x,V2_subs)\n",
    "V1_plot = V1_numpy(x1_plot)\n",
    "V2_plot = V2_numpy(x2_plot)\n",
    "plt.figure()\n",
    "plt.plot([0,3],[V1_plot,V1_plot])\n",
    "plt.plot(x2_plot,V2_plot)\n",
    "plt.gca().invert_yaxis()\n",
    "plt.title(\"V-lijn\")\n",
    "plt.axhline(0,color='black')\n",
    "plt.xlim(0,8) \n",
    "plt.annotate('%.2f kN' % V1_numpy(0),xy = [0,V1_numpy(0)])\n",
    "plt.annotate('%.2f kN' % V1_numpy(3),xy = [3,V1_numpy(3)])\n",
    "plt.annotate('%.2f kN' % V2_numpy(3),xy = [3,V2_numpy(3)])\n",
    "plt.annotate('%.2f kN' % V2_numpy(8),xy = [8,V2_numpy(8)])\n",
    "plt.axis('off');"
   ]
  }
 ],
 "metadata": {
  "kernelspec": {
   "display_name": "Python 3 (ipykernel)",
   "language": "python",
   "name": "python3"
  },
  "language_info": {
   "codemirror_mode": {
    "name": "ipython",
    "version": 3
   },
   "file_extension": ".py",
   "mimetype": "text/x-python",
   "name": "python",
   "nbconvert_exporter": "python",
   "pygments_lexer": "ipython3",
   "version": "3.9.13"
  }
 },
 "nbformat": 4,
 "nbformat_minor": 5
}
